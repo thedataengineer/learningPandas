{
 "cells": [
  {
   "cell_type": "code",
   "execution_count": 4,
   "id": "308657fa",
   "metadata": {},
   "outputs": [
    {
     "name": "stdout",
     "output_type": "stream",
     "text": [
      "/Users/thekarteek/Downloads\n"
     ]
    }
   ],
   "source": [
    "%cd Downloads"
   ]
  },
  {
   "cell_type": "code",
   "execution_count": 5,
   "id": "7fa49c4c",
   "metadata": {},
   "outputs": [
    {
     "data": {
      "text/plain": [
       "'/Users/thekarteek/Downloads'"
      ]
     },
     "execution_count": 5,
     "metadata": {},
     "output_type": "execute_result"
    }
   ],
   "source": [
    "%pwd"
   ]
  },
  {
   "cell_type": "code",
   "execution_count": 6,
   "id": "f8151047",
   "metadata": {},
   "outputs": [],
   "source": [
    "import numpy as np\n",
    "import pandas as pd\n"
   ]
  },
  {
   "cell_type": "code",
   "execution_count": 9,
   "id": "dde1d6b3",
   "metadata": {},
   "outputs": [],
   "source": [
    "df = pd.read_csv(\"NISPUF17.csv\", index_col=0)"
   ]
  },
  {
   "cell_type": "code",
   "execution_count": 11,
   "id": "082df8c1",
   "metadata": {},
   "outputs": [
    {
     "data": {
      "text/plain": [
       "1        4\n",
       "2        3\n",
       "3        3\n",
       "4        4\n",
       "5        1\n",
       "        ..\n",
       "28461    3\n",
       "28462    2\n",
       "28463    3\n",
       "28464    2\n",
       "28465    4\n",
       "Name: EDUC1, Length: 28465, dtype: int64"
      ]
     },
     "execution_count": 11,
     "metadata": {},
     "output_type": "execute_result"
    }
   ],
   "source": [
    "df[\"EDUC1\"]"
   ]
  },
  {
   "cell_type": "code",
   "execution_count": 12,
   "id": "25595a16",
   "metadata": {},
   "outputs": [],
   "source": [
    "EDUS=df['EDUC1']\n",
    "edus=np.sort(EDUS.values)"
   ]
  },
  {
   "cell_type": "code",
   "execution_count": 13,
   "id": "7205692b",
   "metadata": {},
   "outputs": [
    {
     "data": {
      "text/plain": [
       "array([1, 1, 1, ..., 4, 4, 4])"
      ]
     },
     "execution_count": 13,
     "metadata": {},
     "output_type": "execute_result"
    }
   ],
   "source": [
    "edus"
   ]
  },
  {
   "cell_type": "code",
   "execution_count": 15,
   "id": "9874cb5c",
   "metadata": {},
   "outputs": [],
   "source": [
    "poe={\"less than high school\":0,\n",
    "     \"high school\":0,\n",
    "    \"more than high school but not college\":0,\n",
    "    \"college\":0}\n",
    "n=len(edus)"
   ]
  },
  {
   "cell_type": "code",
   "execution_count": 16,
   "id": "67703c39",
   "metadata": {},
   "outputs": [
    {
     "data": {
      "text/plain": [
       "28465"
      ]
     },
     "execution_count": 16,
     "metadata": {},
     "output_type": "execute_result"
    }
   ],
   "source": [
    "n"
   ]
  },
  {
   "cell_type": "code",
   "execution_count": 29,
   "id": "9e4e2e24",
   "metadata": {},
   "outputs": [],
   "source": [
    "poe[\"less than high school\"]=np.sum(edus==1)/n\n",
    "poe[\"high school\"]=np.sum(edus==2)/n\n",
    "poe[\"more than high school but not college\"]=np.sum(edus==3)/n\n",
    "poe[\"college\"]=np.sum(edus==4)/n"
   ]
  },
  {
   "cell_type": "code",
   "execution_count": 30,
   "id": "a270a8a4",
   "metadata": {},
   "outputs": [
    {
     "data": {
      "text/plain": [
       "{'less than high school': 0.10202002459160373,\n",
       " 'high school': 0.172352011241876,\n",
       " 'more than high school but not college': 0.24588090637625154,\n",
       " 'college': 0.47974705779026877}"
      ]
     },
     "execution_count": 30,
     "metadata": {},
     "output_type": "execute_result"
    }
   ],
   "source": [
    "poe"
   ]
  },
  {
   "cell_type": "code",
   "execution_count": null,
   "id": "4c345695",
   "metadata": {},
   "outputs": [],
   "source": []
  },
  {
   "cell_type": "code",
   "execution_count": null,
   "id": "64bccc6c",
   "metadata": {},
   "outputs": [],
   "source": []
  },
  {
   "cell_type": "code",
   "execution_count": null,
   "id": "04971acb",
   "metadata": {},
   "outputs": [],
   "source": []
  }
 ],
 "metadata": {
  "kernelspec": {
   "display_name": "Python 3",
   "language": "python",
   "name": "python3"
  },
  "language_info": {
   "codemirror_mode": {
    "name": "ipython",
    "version": 3
   },
   "file_extension": ".py",
   "mimetype": "text/x-python",
   "name": "python",
   "nbconvert_exporter": "python",
   "pygments_lexer": "ipython3",
   "version": "3.8.8"
  }
 },
 "nbformat": 4,
 "nbformat_minor": 5
}
