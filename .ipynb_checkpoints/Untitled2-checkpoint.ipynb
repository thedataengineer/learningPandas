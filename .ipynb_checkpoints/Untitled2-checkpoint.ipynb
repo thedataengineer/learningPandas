{
 "cells": [
  {
   "cell_type": "code",
   "execution_count": 1,
   "id": "c6f1f5d2",
   "metadata": {},
   "outputs": [],
   "source": [
    "import requests as r\n"
   ]
  },
  {
   "cell_type": "code",
   "execution_count": 13,
   "id": "b3aa95b0",
   "metadata": {},
   "outputs": [],
   "source": [
    "s = r.head(\"https://creditbureaureports.com/iconnect\")"
   ]
  },
  {
   "cell_type": "code",
   "execution_count": 25,
   "id": "14853b95",
   "metadata": {},
   "outputs": [
    {
     "ename": "SyntaxError",
     "evalue": "invalid syntax (<ipython-input-25-b64f393a17e5>, line 3)",
     "output_type": "error",
     "traceback": [
      "\u001b[0;36m  File \u001b[0;32m\"<ipython-input-25-b64f393a17e5>\"\u001b[0;36m, line \u001b[0;32m3\u001b[0m\n\u001b[0;31m    else:\u001b[0m\n\u001b[0m    ^\u001b[0m\n\u001b[0;31mSyntaxError\u001b[0m\u001b[0;31m:\u001b[0m invalid syntax\n"
     ]
    }
   ],
   "source": [
    "if s.status_code < 400 :\n",
    "    'Up' \n",
    "    else: \n",
    "    'Down' "
   ]
  },
  {
   "cell_type": "code",
   "execution_count": null,
   "id": "1984b4d8",
   "metadata": {},
   "outputs": [],
   "source": []
  },
  {
   "cell_type": "code",
   "execution_count": null,
   "id": "bc1d4ef3",
   "metadata": {},
   "outputs": [],
   "source": []
  }
 ],
 "metadata": {
  "kernelspec": {
   "display_name": "Python 3",
   "language": "python",
   "name": "python3"
  },
  "language_info": {
   "codemirror_mode": {
    "name": "ipython",
    "version": 3
   },
   "file_extension": ".py",
   "mimetype": "text/x-python",
   "name": "python",
   "nbconvert_exporter": "python",
   "pygments_lexer": "ipython3",
   "version": "3.8.8"
  }
 },
 "nbformat": 4,
 "nbformat_minor": 5
}
